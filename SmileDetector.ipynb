{
 "cells": [
  {
   "cell_type": "code",
   "execution_count": 29,
   "metadata": {},
   "outputs": [],
   "source": [
    "import h5py\n",
    "import numpy as np\n",
    "import matplotlib.pyplot as plt\n",
    "from keras.utils import to_categorical\n",
    "from keras.models import Sequential\n",
    "from keras.layers import Conv2D, Flatten, Dense,MaxPooling2D\n",
    "def load_dataset(path_to_train, path_to_test):\n",
    "    train_dataset = h5py.File(path_to_train)\n",
    "    train_x = np.array(train_dataset['train_set_x'][:])\n",
    "    train_y = np.array(train_dataset['train_set_y'][:])\n",
    "\n",
    "    test_dataset = h5py.File(path_to_test)\n",
    "    test_x = np.array(test_dataset['test_set_x'][:])\n",
    "    test_y = np.array(test_dataset['test_set_y'][:])\n",
    "\n",
    "    # y reshaped\n",
    "    train_y = train_y.reshape((1, train_x.shape[0]))\n",
    "    test_y = test_y.reshape((1, test_y.shape[0]))\n",
    "\n",
    "    return train_x, train_y, test_x, test_y"
   ]
  },
  {
   "cell_type": "code",
   "execution_count": 30,
   "metadata": {},
   "outputs": [],
   "source": [
    "pathtrain='train_happy.h5'\n",
    "pathtest='test_happy.h5'\n",
    "\n",
    "X_train,y_train,X_test,y_test=load_dataset(pathtrain,pathtest)\n",
    "y_train=y_train[0]\n",
    "y_test=y_test[0]"
   ]
  },
  {
   "cell_type": "code",
   "execution_count": 58,
   "metadata": {},
   "outputs": [
    {
     "data": {
      "text/plain": [
       "<matplotlib.image.AxesImage at 0xb37a456a0>"
      ]
     },
     "execution_count": 58,
     "metadata": {},
     "output_type": "execute_result"
    },
    {
     "data": {
      "image/png": "[encoded data removed]",
      "text/plain": [
       "<Figure size 432x288 with 1 Axes>"
      ]
     },
     "metadata": {
      "needs_background": "light"
     },
     "output_type": "display_data"
    }
   ],
   "source": [
    "\n",
    "\n",
    "\n",
    "'''if y_train[1]==0:\n",
    "    print('Person is not smiling.')\n",
    "else:\n",
    "    print('Person is smiling.')\n",
    "plt.imshow(X_train[39\n",
    "                  ])'''\n",
    "plt.imshow(X_test[0])\n"
   ]
  },
  {
   "cell_type": "code",
   "execution_count": 32,
   "metadata": {},
   "outputs": [],
   "source": [
    "y_train=to_categorical(y_train)\n",
    "y_test=to_categorical(y_test)\n",
    "\n"
   ]
  },
  {
   "cell_type": "code",
   "execution_count": 33,
   "metadata": {},
   "outputs": [
    {
     "data": {
      "text/plain": [
       "array([1., 0.])"
      ]
     },
     "execution_count": 33,
     "metadata": {},
     "output_type": "execute_result"
    }
   ],
   "source": [
    "y_train[0]\n"
   ]
  },
  {
   "cell_type": "code",
   "execution_count": 50,
   "metadata": {},
   "outputs": [],
   "source": [
    "# using the sequential model from keras library\n",
    "model=Sequential()\n",
    "# applying the convolution with kernel size of 3\n",
    "model.add(Conv2D(64,kernel_size=3,activation='sigmoid',use_bias=True,input_shape=(64,64,3)))\n",
    "\n",
    "# applying the subsampling/pooling\n",
    "model.add(MaxPooling2D())\n",
    "\n",
    "# applying the convolution with kernel size of 3\n",
    "model.add(Conv2D(32,kernel_size=3,activation='sigmoid',use_bias=True))\n",
    "\n",
    "# applying the subsampling/pooling\n",
    "model.add(MaxPooling2D())\n",
    "\n",
    "# making the channels fully connected\n",
    "model.add(Flatten())\n",
    "\n",
    "\n",
    "\n",
    "# converting the fully connected layers to the output of size 2 i.e.(0,1)\n",
    "model.add(Dense(2,activation='softmax'))\n",
    "\n",
    "          "
   ]
  },
  {
   "cell_type": "code",
   "execution_count": 53,
   "metadata": {},
   "outputs": [
    {
     "name": "stdout",
     "output_type": "stream",
     "text": [
      "_________________________________________________________________\n",
      "Layer (type)                 Output Shape              Param #   \n",
      "=================================================================\n",
      "conv2d_23 (Conv2D)           (None, 62, 62, 64)        1792      \n",
      "_________________________________________________________________\n",
      "max_pooling2d_21 (MaxPooling (None, 31, 31, 64)        0         \n",
      "_________________________________________________________________\n",
      "conv2d_24 (Conv2D)           (None, 29, 29, 32)        18464     \n",
      "_________________________________________________________________\n",
      "max_pooling2d_22 (MaxPooling (None, 14, 14, 32)        0         \n",
      "_________________________________________________________________\n",
      "flatten_12 (Flatten)         (None, 6272)              0         \n",
      "_________________________________________________________________\n",
      "dense_16 (Dense)             (None, 2)                 12546     \n",
      "=================================================================\n",
      "Total params: 32,802\n",
      "Trainable params: 32,802\n",
      "Non-trainable params: 0\n",
      "_________________________________________________________________\n"
     ]
    }
   ],
   "source": [
    "# using Adams's Optimizer and CrossMax Entropy as loss function\n",
    "model.compile(loss = \"categorical_crossentropy\", optimizer = 'adam',metrics=['accuracy'])\n",
    "# printing out the summary of the model and how it is working\n",
    "model.summary()"
   ]
  },
  {
   "cell_type": "code",
   "execution_count": 54,
   "metadata": {},
   "outputs": [
    {
     "name": "stdout",
     "output_type": "stream",
     "text": [
      "Train on 600 samples, validate on 150 samples\n",
      "Epoch 1/30\n",
      "600/600 [==============================] - 6s 9ms/step - loss: 0.4662 - acc: 0.8033 - val_loss: 0.3849 - val_acc: 0.8267\n",
      "Epoch 2/30\n",
      "600/600 [==============================] - 4s 7ms/step - loss: 0.3092 - acc: 0.8883 - val_loss: 0.3178 - val_acc: 0.8667\n",
      "Epoch 3/30\n",
      "600/600 [==============================] - 5s 8ms/step - loss: 0.2656 - acc: 0.9133 - val_loss: 0.2782 - val_acc: 0.9000\n",
      "Epoch 4/30\n",
      "600/600 [==============================] - 5s 8ms/step - loss: 0.2466 - acc: 0.9050 - val_loss: 0.2488 - val_acc: 0.9267\n",
      "Epoch 5/30\n",
      "600/600 [==============================] - 5s 8ms/step - loss: 0.1995 - acc: 0.9483 - val_loss: 0.2247 - val_acc: 0.9133\n",
      "Epoch 6/30\n",
      "600/600 [==============================] - 5s 8ms/step - loss: 0.1883 - acc: 0.9400 - val_loss: 0.2260 - val_acc: 0.9333\n",
      "Epoch 7/30\n",
      "600/600 [==============================] - 5s 8ms/step - loss: 0.1619 - acc: 0.9500 - val_loss: 0.1916 - val_acc: 0.9467\n",
      "Epoch 8/30\n",
      "600/600 [==============================] - 5s 8ms/step - loss: 0.1556 - acc: 0.9583 - val_loss: 0.1783 - val_acc: 0.9667\n",
      "Epoch 9/30\n",
      "600/600 [==============================] - 5s 8ms/step - loss: 0.1338 - acc: 0.9567 - val_loss: 0.2132 - val_acc: 0.9333\n",
      "Epoch 10/30\n",
      "600/600 [==============================] - 6s 11ms/step - loss: 0.1256 - acc: 0.9617 - val_loss: 0.2015 - val_acc: 0.9267\n",
      "Epoch 11/30\n",
      "600/600 [==============================] - 6s 10ms/step - loss: 0.1193 - acc: 0.9717 - val_loss: 0.1551 - val_acc: 0.9533\n",
      "Epoch 12/30\n",
      "600/600 [==============================] - 5s 8ms/step - loss: 0.1135 - acc: 0.9650 - val_loss: 0.1756 - val_acc: 0.9467\n",
      "Epoch 13/30\n",
      "600/600 [==============================] - 5s 8ms/step - loss: 0.1099 - acc: 0.9717 - val_loss: 0.2073 - val_acc: 0.9267\n",
      "Epoch 14/30\n",
      "600/600 [==============================] - 6s 10ms/step - loss: 0.0870 - acc: 0.9750 - val_loss: 0.1534 - val_acc: 0.9533\n",
      "Epoch 15/30\n",
      "600/600 [==============================] - 5s 9ms/step - loss: 0.0929 - acc: 0.9750 - val_loss: 0.1669 - val_acc: 0.9333\n",
      "Epoch 16/30\n",
      "600/600 [==============================] - 5s 8ms/step - loss: 0.0975 - acc: 0.9750 - val_loss: 0.1710 - val_acc: 0.9467\n",
      "Epoch 17/30\n",
      "600/600 [==============================] - 5s 8ms/step - loss: 0.0970 - acc: 0.9750 - val_loss: 0.1889 - val_acc: 0.9200\n",
      "Epoch 18/30\n",
      "600/600 [==============================] - 6s 9ms/step - loss: 0.0780 - acc: 0.9817 - val_loss: 0.1823 - val_acc: 0.9400\n",
      "Epoch 19/30\n",
      "600/600 [==============================] - 5s 8ms/step - loss: 0.0693 - acc: 0.9817 - val_loss: 0.1543 - val_acc: 0.9333\n",
      "Epoch 20/30\n",
      "600/600 [==============================] - 5s 8ms/step - loss: 0.0705 - acc: 0.9800 - val_loss: 0.1130 - val_acc: 0.9600\n",
      "Epoch 21/30\n",
      "600/600 [==============================] - 5s 8ms/step - loss: 0.0600 - acc: 0.9900 - val_loss: 0.1393 - val_acc: 0.9533\n",
      "Epoch 22/30\n",
      "600/600 [==============================] - 5s 8ms/step - loss: 0.0607 - acc: 0.9783 - val_loss: 0.1131 - val_acc: 0.9600\n",
      "Epoch 23/30\n",
      "600/600 [==============================] - 5s 8ms/step - loss: 0.0551 - acc: 0.9900 - val_loss: 0.1732 - val_acc: 0.9467\n",
      "Epoch 24/30\n",
      "600/600 [==============================] - 5s 8ms/step - loss: 0.0585 - acc: 0.9850 - val_loss: 0.1273 - val_acc: 0.9467\n",
      "Epoch 25/30\n",
      "600/600 [==============================] - 5s 8ms/step - loss: 0.0606 - acc: 0.9883 - val_loss: 0.1261 - val_acc: 0.9467\n",
      "Epoch 26/30\n",
      "600/600 [==============================] - 5s 8ms/step - loss: 0.0573 - acc: 0.9883 - val_loss: 0.1027 - val_acc: 0.9600\n",
      "Epoch 27/30\n",
      "600/600 [==============================] - 5s 8ms/step - loss: 0.0474 - acc: 0.9900 - val_loss: 0.1119 - val_acc: 0.9600\n",
      "Epoch 28/30\n",
      "600/600 [==============================] - 5s 8ms/step - loss: 0.0438 - acc: 0.9900 - val_loss: 0.0909 - val_acc: 0.9733\n",
      "Epoch 29/30\n",
      "600/600 [==============================] - 5s 8ms/step - loss: 0.0460 - acc: 0.9900 - val_loss: 0.1063 - val_acc: 0.9533\n",
      "Epoch 30/30\n",
      "600/600 [==============================] - 5s 8ms/step - loss: 0.0366 - acc: 0.9933 - val_loss: 0.1180 - val_acc: 0.9600\n"
     ]
    },
    {
     "data": {
      "text/plain": [
       "<keras.callbacks.History at 0xb38d626d8>"
      ]
     },
     "execution_count": 54,
     "metadata": {},
     "output_type": "execute_result"
    }
   ],
   "source": [
    "# fitting the dataset into the model with 3 epochs\n",
    "model.fit(X_train,y_train,validation_data=(X_test,y_test),epochs=30)"
   ]
  },
  {
   "cell_type": "code",
   "execution_count": 73,
   "metadata": {},
   "outputs": [
    {
     "data": {
      "text/plain": [
       "array([[1.1811050e-04, 9.9988186e-01]], dtype=float32)"
      ]
     },
     "execution_count": 73,
     "metadata": {},
     "output_type": "execute_result"
    }
   ],
   "source": [
    "model.predict(X_test[:1])\n",
    "# first index in for not simling and second index is for smiling"
   ]
  },
  {
   "cell_type": "code",
   "execution_count": 74,
   "metadata": {},
   "outputs": [
    {
     "data": {
      "text/plain": [
       "<matplotlib.image.AxesImage at 0xb37eea550>"
      ]
     },
     "execution_count": 74,
     "metadata": {},
     "output_type": "execute_result"
    },
    {
     "data": {
      "image/png": "[encoded data removed]",
      "text/plain": [
       "<Figure size 432x288 with 1 Axes>"
      ]
     },
     "metadata": {
      "needs_background": "light"
     },
     "output_type": "display_data"
    }
   ],
   "source": [
    "plt.imshow(X_test[0])\n",
    "# results match"
   ]
  },
  {
   "cell_type": "code",
   "execution_count": null,
   "metadata": {},
   "outputs": [],
   "source": []
  }
 ],
 "metadata": {
  "kernelspec": {
   "display_name": "Python 3",
   "language": "python",
   "name": "python3"
  },
  "language_info": {
   "codemirror_mode": {
    "name": "ipython",
    "version": 3
   },
   "file_extension": ".py",
   "mimetype": "text/x-python",
   "name": "python",
   "nbconvert_exporter": "python",
   "pygments_lexer": "ipython3",
   "version": "3.7.1"
  }
 },
 "nbformat": 4,
 "nbformat_minor": 2
}
